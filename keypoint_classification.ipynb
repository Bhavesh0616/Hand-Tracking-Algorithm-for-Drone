{
 "cells": [
  {
   "cell_type": "code",
   "execution_count": 24,
   "metadata": {},
   "outputs": [],
   "source": [
    "import csv\n",
    "\n",
    "import numpy as np\n",
    "import tensorflow as tf\n",
    "from sklearn.model_selection import train_test_split\n",
    "\n",
    "RANDOM_SEED = 42"
   ]
  },
  {
   "cell_type": "markdown",
   "metadata": {},
   "source": [
    "# 各パス指定"
   ]
  },
  {
   "cell_type": "code",
   "execution_count": 25,
   "metadata": {},
   "outputs": [],
   "source": [
    "dataset = 'model/keypoint_classifier/keypoint.csv'\n",
    "model_save_path = 'model/keypoint_classifier/keypoint_classifier.hdf5'"
   ]
  },
  {
   "cell_type": "markdown",
   "metadata": {},
   "source": [
    "# 分類数設定"
   ]
  },
  {
   "cell_type": "code",
   "execution_count": 26,
   "metadata": {},
   "outputs": [],
   "source": [
    "NUM_CLASSES = 5"
   ]
  },
  {
   "cell_type": "markdown",
   "metadata": {},
   "source": [
    "# 学習データ読み込み"
   ]
  },
  {
   "cell_type": "code",
   "execution_count": 27,
   "metadata": {},
   "outputs": [],
   "source": [
    "X_dataset = np.loadtxt(dataset, delimiter=',', dtype='float32', usecols=list(range(1, (21 * 2) + 1)))"
   ]
  },
  {
   "cell_type": "code",
   "execution_count": 28,
   "metadata": {},
   "outputs": [],
   "source": [
    "y_dataset = np.loadtxt(dataset, delimiter=',', dtype='int32', usecols=(0))"
   ]
  },
  {
   "cell_type": "code",
   "execution_count": 29,
   "metadata": {},
   "outputs": [],
   "source": [
    "X_train, X_test, y_train, y_test = train_test_split(X_dataset, y_dataset, train_size=0.75, random_state=RANDOM_SEED)"
   ]
  },
  {
   "cell_type": "markdown",
   "metadata": {},
   "source": [
    "# モデル構築"
   ]
  },
  {
   "cell_type": "code",
   "execution_count": 30,
   "metadata": {},
   "outputs": [],
   "source": [
    "model = tf.keras.models.Sequential([\n",
    "    tf.keras.layers.Input((21 * 2, )),\n",
    "    tf.keras.layers.Dropout(0.2),\n",
    "    tf.keras.layers.Dense(20, activation='relu'),\n",
    "    tf.keras.layers.Dropout(0.4),\n",
    "    tf.keras.layers.Dense(10, activation='relu'),\n",
    "    tf.keras.layers.Dense(NUM_CLASSES, activation='softmax')\n",
    "])"
   ]
  },
  {
   "cell_type": "code",
   "execution_count": 31,
   "metadata": {},
   "outputs": [
    {
     "name": "stdout",
     "output_type": "stream",
     "text": [
      "Model: \"sequential_1\"\n",
      "_________________________________________________________________\n",
      " Layer (type)                Output Shape              Param #   \n",
      "=================================================================\n",
      " dropout_2 (Dropout)         (None, 42)                0         \n",
      "                                                                 \n",
      " dense_3 (Dense)             (None, 20)                860       \n",
      "                                                                 \n",
      " dropout_3 (Dropout)         (None, 20)                0         \n",
      "                                                                 \n",
      " dense_4 (Dense)             (None, 10)                210       \n",
      "                                                                 \n",
      " dense_5 (Dense)             (None, 5)                 55        \n",
      "                                                                 \n",
      "=================================================================\n",
      "Total params: 1,125\n",
      "Trainable params: 1,125\n",
      "Non-trainable params: 0\n",
      "_________________________________________________________________\n"
     ]
    }
   ],
   "source": [
    "model.summary()  # tf.keras.utils.plot_model(model, show_shapes=True)"
   ]
  },
  {
   "cell_type": "code",
   "execution_count": 32,
   "metadata": {},
   "outputs": [],
   "source": [
    "# モデルチェックポイントのコールバック\n",
    "cp_callback = tf.keras.callbacks.ModelCheckpoint(\n",
    "    model_save_path, verbose=1, save_weights_only=False)\n",
    "# 早期打ち切り用コールバック\n",
    "es_callback = tf.keras.callbacks.EarlyStopping(patience=20, verbose=1)"
   ]
  },
  {
   "cell_type": "code",
   "execution_count": 33,
   "metadata": {},
   "outputs": [],
   "source": [
    "# モデルコンパイル\n",
    "model.compile(\n",
    "    optimizer='adam',\n",
    "    loss='sparse_categorical_crossentropy',\n",
    "    metrics=['accuracy']\n",
    ")"
   ]
  },
  {
   "cell_type": "markdown",
   "metadata": {},
   "source": [
    "# モデル訓練"
   ]
  },
  {
   "cell_type": "code",
   "execution_count": 34,
   "metadata": {
    "scrolled": true
   },
   "outputs": [
    {
     "name": "stdout",
     "output_type": "stream",
     "text": [
      "Epoch 1/1000\n",
      "17/29 [================>.............] - ETA: 0s - loss: 1.5585 - accuracy: 0.3277 \n",
      "Epoch 1: saving model to model/keypoint_classifier\\keypoint_classifier.hdf5\n",
      "29/29 [==============================] - 2s 14ms/step - loss: 1.5420 - accuracy: 0.3256 - val_loss: 1.4679 - val_accuracy: 0.3525\n",
      "Epoch 2/1000\n",
      "12/29 [===========>..................] - ETA: 0s - loss: 1.4762 - accuracy: 0.3372\n",
      "Epoch 2: saving model to model/keypoint_classifier\\keypoint_classifier.hdf5\n",
      "29/29 [==============================] - 0s 7ms/step - loss: 1.4400 - accuracy: 0.3535 - val_loss: 1.3783 - val_accuracy: 0.3751\n",
      "Epoch 3/1000\n",
      "18/29 [=================>............] - ETA: 0s - loss: 1.3745 - accuracy: 0.3767\n",
      "Epoch 3: saving model to model/keypoint_classifier\\keypoint_classifier.hdf5\n",
      "29/29 [==============================] - 0s 6ms/step - loss: 1.3626 - accuracy: 0.3769 - val_loss: 1.2910 - val_accuracy: 0.4135\n",
      "Epoch 4/1000\n",
      "19/29 [==================>...........] - ETA: 0s - loss: 1.3046 - accuracy: 0.3832\n",
      "Epoch 4: saving model to model/keypoint_classifier\\keypoint_classifier.hdf5\n",
      "29/29 [==============================] - 0s 6ms/step - loss: 1.2932 - accuracy: 0.3900 - val_loss: 1.2136 - val_accuracy: 0.4336\n",
      "Epoch 5/1000\n",
      "18/29 [=================>............] - ETA: 0s - loss: 1.2406 - accuracy: 0.4162\n",
      "Epoch 5: saving model to model/keypoint_classifier\\keypoint_classifier.hdf5\n",
      "29/29 [==============================] - 0s 7ms/step - loss: 1.2336 - accuracy: 0.4111 - val_loss: 1.1466 - val_accuracy: 0.4854\n",
      "Epoch 6/1000\n",
      "16/29 [===============>..............] - ETA: 0s - loss: 1.1994 - accuracy: 0.4370\n",
      "Epoch 6: saving model to model/keypoint_classifier\\keypoint_classifier.hdf5\n",
      "29/29 [==============================] - 0s 7ms/step - loss: 1.1913 - accuracy: 0.4387 - val_loss: 1.0954 - val_accuracy: 0.4954\n",
      "Epoch 7/1000\n",
      "20/29 [===================>..........] - ETA: 0s - loss: 1.1505 - accuracy: 0.4402\n",
      "Epoch 7: saving model to model/keypoint_classifier\\keypoint_classifier.hdf5\n",
      "29/29 [==============================] - 0s 6ms/step - loss: 1.1526 - accuracy: 0.4407 - val_loss: 1.0527 - val_accuracy: 0.5171\n",
      "Epoch 8/1000\n",
      "19/29 [==================>...........] - ETA: 0s - loss: 1.1248 - accuracy: 0.4548\n",
      "Epoch 8: saving model to model/keypoint_classifier\\keypoint_classifier.hdf5\n",
      "29/29 [==============================] - 0s 6ms/step - loss: 1.1237 - accuracy: 0.4591 - val_loss: 1.0123 - val_accuracy: 0.5322\n",
      "Epoch 9/1000\n",
      "20/29 [===================>..........] - ETA: 0s - loss: 1.0984 - accuracy: 0.4738\n",
      "Epoch 9: saving model to model/keypoint_classifier\\keypoint_classifier.hdf5\n",
      "29/29 [==============================] - 0s 6ms/step - loss: 1.0921 - accuracy: 0.4763 - val_loss: 0.9766 - val_accuracy: 0.5514\n",
      "Epoch 10/1000\n",
      "19/29 [==================>...........] - ETA: 0s - loss: 1.0837 - accuracy: 0.4720\n",
      "Epoch 10: saving model to model/keypoint_classifier\\keypoint_classifier.hdf5\n",
      "29/29 [==============================] - 0s 6ms/step - loss: 1.0742 - accuracy: 0.4799 - val_loss: 0.9423 - val_accuracy: 0.6266\n",
      "Epoch 11/1000\n",
      "19/29 [==================>...........] - ETA: 0s - loss: 1.0412 - accuracy: 0.4868\n",
      "Epoch 11: saving model to model/keypoint_classifier\\keypoint_classifier.hdf5\n",
      "29/29 [==============================] - 0s 6ms/step - loss: 1.0411 - accuracy: 0.4894 - val_loss: 0.9042 - val_accuracy: 0.6725\n",
      "Epoch 12/1000\n",
      "18/29 [=================>............] - ETA: 0s - loss: 1.0228 - accuracy: 0.5273\n",
      "Epoch 12: saving model to model/keypoint_classifier\\keypoint_classifier.hdf5\n",
      "29/29 [==============================] - 0s 6ms/step - loss: 1.0155 - accuracy: 0.5362 - val_loss: 0.8700 - val_accuracy: 0.6934\n",
      "Epoch 13/1000\n",
      "20/29 [===================>..........] - ETA: 0s - loss: 0.9954 - accuracy: 0.5480\n",
      "Epoch 13: saving model to model/keypoint_classifier\\keypoint_classifier.hdf5\n",
      "29/29 [==============================] - 0s 6ms/step - loss: 0.9967 - accuracy: 0.5415 - val_loss: 0.8303 - val_accuracy: 0.7377\n",
      "Epoch 14/1000\n",
      "19/29 [==================>...........] - ETA: 0s - loss: 0.9805 - accuracy: 0.5506\n",
      "Epoch 14: saving model to model/keypoint_classifier\\keypoint_classifier.hdf5\n",
      "29/29 [==============================] - 0s 5ms/step - loss: 0.9775 - accuracy: 0.5557 - val_loss: 0.7952 - val_accuracy: 0.8045\n",
      "Epoch 15/1000\n",
      "18/29 [=================>............] - ETA: 0s - loss: 0.9469 - accuracy: 0.5825\n",
      "Epoch 15: saving model to model/keypoint_classifier\\keypoint_classifier.hdf5\n",
      "29/29 [==============================] - 0s 6ms/step - loss: 0.9515 - accuracy: 0.5719 - val_loss: 0.7533 - val_accuracy: 0.7878\n",
      "Epoch 16/1000\n",
      "21/29 [====================>.........] - ETA: 0s - loss: 0.9166 - accuracy: 0.5856\n",
      "Epoch 16: saving model to model/keypoint_classifier\\keypoint_classifier.hdf5\n",
      "29/29 [==============================] - 0s 6ms/step - loss: 0.9233 - accuracy: 0.5833 - val_loss: 0.7136 - val_accuracy: 0.8713\n",
      "Epoch 17/1000\n",
      "21/29 [====================>.........] - ETA: 0s - loss: 0.8797 - accuracy: 0.6120\n",
      "Epoch 17: saving model to model/keypoint_classifier\\keypoint_classifier.hdf5\n",
      "29/29 [==============================] - 0s 6ms/step - loss: 0.8921 - accuracy: 0.6064 - val_loss: 0.6793 - val_accuracy: 0.8471\n",
      "Epoch 18/1000\n",
      "29/29 [==============================] - ETA: 0s - loss: 0.8796 - accuracy: 0.6070\n",
      "Epoch 18: saving model to model/keypoint_classifier\\keypoint_classifier.hdf5\n",
      "29/29 [==============================] - 0s 7ms/step - loss: 0.8796 - accuracy: 0.6070 - val_loss: 0.6466 - val_accuracy: 0.8814\n",
      "Epoch 19/1000\n",
      "20/29 [===================>..........] - ETA: 0s - loss: 0.8604 - accuracy: 0.6348\n",
      "Epoch 19: saving model to model/keypoint_classifier\\keypoint_classifier.hdf5\n",
      "29/29 [==============================] - 0s 6ms/step - loss: 0.8605 - accuracy: 0.6315 - val_loss: 0.6215 - val_accuracy: 0.8822\n",
      "Epoch 20/1000\n",
      "20/29 [===================>..........] - ETA: 0s - loss: 0.8588 - accuracy: 0.6258\n",
      "Epoch 20: saving model to model/keypoint_classifier\\keypoint_classifier.hdf5\n",
      "29/29 [==============================] - 0s 6ms/step - loss: 0.8559 - accuracy: 0.6298 - val_loss: 0.5942 - val_accuracy: 0.8755\n",
      "Epoch 21/1000\n",
      "19/29 [==================>...........] - ETA: 0s - loss: 0.8541 - accuracy: 0.6328\n",
      "Epoch 21: saving model to model/keypoint_classifier\\keypoint_classifier.hdf5\n",
      "29/29 [==============================] - 0s 6ms/step - loss: 0.8351 - accuracy: 0.6446 - val_loss: 0.5715 - val_accuracy: 0.8830\n",
      "Epoch 22/1000\n",
      "19/29 [==================>...........] - ETA: 0s - loss: 0.8466 - accuracy: 0.6254\n",
      "Epoch 22: saving model to model/keypoint_classifier\\keypoint_classifier.hdf5\n",
      "29/29 [==============================] - 0s 6ms/step - loss: 0.8322 - accuracy: 0.6331 - val_loss: 0.5534 - val_accuracy: 0.8822\n",
      "Epoch 23/1000\n",
      "21/29 [====================>.........] - ETA: 0s - loss: 0.8177 - accuracy: 0.6436\n",
      "Epoch 23: saving model to model/keypoint_classifier\\keypoint_classifier.hdf5\n",
      "29/29 [==============================] - 0s 5ms/step - loss: 0.8064 - accuracy: 0.6532 - val_loss: 0.5350 - val_accuracy: 0.8872\n",
      "Epoch 24/1000\n",
      "20/29 [===================>..........] - ETA: 0s - loss: 0.7743 - accuracy: 0.6820\n",
      "Epoch 24: saving model to model/keypoint_classifier\\keypoint_classifier.hdf5\n",
      "29/29 [==============================] - 0s 6ms/step - loss: 0.7731 - accuracy: 0.6827 - val_loss: 0.5131 - val_accuracy: 0.8881\n",
      "Epoch 25/1000\n",
      "20/29 [===================>..........] - ETA: 0s - loss: 0.7815 - accuracy: 0.6680\n",
      "Epoch 25: saving model to model/keypoint_classifier\\keypoint_classifier.hdf5\n",
      "29/29 [==============================] - 0s 6ms/step - loss: 0.7653 - accuracy: 0.6811 - val_loss: 0.4990 - val_accuracy: 0.8939\n",
      "Epoch 26/1000\n",
      "19/29 [==================>...........] - ETA: 0s - loss: 0.7662 - accuracy: 0.6768\n",
      "Epoch 26: saving model to model/keypoint_classifier\\keypoint_classifier.hdf5\n",
      "29/29 [==============================] - 0s 6ms/step - loss: 0.7675 - accuracy: 0.6850 - val_loss: 0.4812 - val_accuracy: 0.8964\n",
      "Epoch 27/1000\n",
      "19/29 [==================>...........] - ETA: 0s - loss: 0.7584 - accuracy: 0.6904\n",
      "Epoch 27: saving model to model/keypoint_classifier\\keypoint_classifier.hdf5\n",
      "29/29 [==============================] - 0s 7ms/step - loss: 0.7566 - accuracy: 0.6933 - val_loss: 0.4676 - val_accuracy: 0.8947\n",
      "Epoch 28/1000\n",
      "16/29 [===============>..............] - ETA: 0s - loss: 0.7316 - accuracy: 0.6987\n",
      "Epoch 28: saving model to model/keypoint_classifier\\keypoint_classifier.hdf5\n",
      "29/29 [==============================] - 0s 6ms/step - loss: 0.7367 - accuracy: 0.6905 - val_loss: 0.4568 - val_accuracy: 0.8997\n",
      "Epoch 29/1000\n",
      "18/29 [=================>............] - ETA: 0s - loss: 0.7651 - accuracy: 0.6736\n",
      "Epoch 29: saving model to model/keypoint_classifier\\keypoint_classifier.hdf5\n",
      "29/29 [==============================] - 0s 6ms/step - loss: 0.7626 - accuracy: 0.6780 - val_loss: 0.4522 - val_accuracy: 0.9114\n",
      "Epoch 30/1000\n",
      "21/29 [====================>.........] - ETA: 0s - loss: 0.7264 - accuracy: 0.7028\n",
      "Epoch 30: saving model to model/keypoint_classifier\\keypoint_classifier.hdf5\n",
      "29/29 [==============================] - 0s 6ms/step - loss: 0.7197 - accuracy: 0.7025 - val_loss: 0.4463 - val_accuracy: 0.9023\n",
      "Epoch 31/1000\n",
      "19/29 [==================>...........] - ETA: 0s - loss: 0.6992 - accuracy: 0.7097\n",
      "Epoch 31: saving model to model/keypoint_classifier\\keypoint_classifier.hdf5\n",
      "29/29 [==============================] - 0s 6ms/step - loss: 0.7171 - accuracy: 0.7003 - val_loss: 0.4274 - val_accuracy: 0.9089\n",
      "Epoch 32/1000\n",
      "19/29 [==================>...........] - ETA: 0s - loss: 0.7116 - accuracy: 0.6974\n",
      "Epoch 32: saving model to model/keypoint_classifier\\keypoint_classifier.hdf5\n",
      "29/29 [==============================] - 0s 6ms/step - loss: 0.7063 - accuracy: 0.7025 - val_loss: 0.4172 - val_accuracy: 0.9098\n",
      "Epoch 33/1000\n",
      "20/29 [===================>..........] - ETA: 0s - loss: 0.7022 - accuracy: 0.7215\n",
      "Epoch 33: saving model to model/keypoint_classifier\\keypoint_classifier.hdf5\n",
      "29/29 [==============================] - 0s 6ms/step - loss: 0.7039 - accuracy: 0.7164 - val_loss: 0.4102 - val_accuracy: 0.9156\n",
      "Epoch 34/1000\n",
      "20/29 [===================>..........] - ETA: 0s - loss: 0.6912 - accuracy: 0.7160\n",
      "Epoch 34: saving model to model/keypoint_classifier\\keypoint_classifier.hdf5\n",
      "29/29 [==============================] - 0s 6ms/step - loss: 0.6941 - accuracy: 0.7192 - val_loss: 0.3965 - val_accuracy: 0.9140\n",
      "Epoch 35/1000\n",
      "26/29 [=========================>....] - ETA: 0s - loss: 0.7021 - accuracy: 0.6998\n",
      "Epoch 35: saving model to model/keypoint_classifier\\keypoint_classifier.hdf5\n",
      "29/29 [==============================] - 0s 7ms/step - loss: 0.7005 - accuracy: 0.7022 - val_loss: 0.3909 - val_accuracy: 0.9181\n",
      "Epoch 36/1000\n",
      "19/29 [==================>...........] - ETA: 0s - loss: 0.6851 - accuracy: 0.7134\n",
      "Epoch 36: saving model to model/keypoint_classifier\\keypoint_classifier.hdf5\n",
      "29/29 [==============================] - 0s 6ms/step - loss: 0.6861 - accuracy: 0.7153 - val_loss: 0.3866 - val_accuracy: 0.9198\n",
      "Epoch 37/1000\n",
      "21/29 [====================>.........] - ETA: 0s - loss: 0.6920 - accuracy: 0.7206\n",
      "Epoch 37: saving model to model/keypoint_classifier\\keypoint_classifier.hdf5\n",
      "29/29 [==============================] - 0s 6ms/step - loss: 0.6819 - accuracy: 0.7234 - val_loss: 0.3832 - val_accuracy: 0.9206\n",
      "Epoch 38/1000\n",
      "19/29 [==================>...........] - ETA: 0s - loss: 0.6679 - accuracy: 0.7212\n",
      "Epoch 38: saving model to model/keypoint_classifier\\keypoint_classifier.hdf5\n",
      "29/29 [==============================] - 0s 6ms/step - loss: 0.6774 - accuracy: 0.7184 - val_loss: 0.3739 - val_accuracy: 0.9198\n",
      "Epoch 39/1000\n",
      "17/29 [================>.............] - ETA: 0s - loss: 0.6548 - accuracy: 0.7335\n",
      "Epoch 39: saving model to model/keypoint_classifier\\keypoint_classifier.hdf5\n",
      "29/29 [==============================] - 0s 6ms/step - loss: 0.6620 - accuracy: 0.7298 - val_loss: 0.3669 - val_accuracy: 0.9206\n",
      "Epoch 40/1000\n",
      "19/29 [==================>...........] - ETA: 0s - loss: 0.6609 - accuracy: 0.7270\n",
      "Epoch 40: saving model to model/keypoint_classifier\\keypoint_classifier.hdf5\n",
      "29/29 [==============================] - 0s 6ms/step - loss: 0.6689 - accuracy: 0.7237 - val_loss: 0.3648 - val_accuracy: 0.9282\n",
      "Epoch 41/1000\n",
      "19/29 [==================>...........] - ETA: 0s - loss: 0.6587 - accuracy: 0.7249\n",
      "Epoch 41: saving model to model/keypoint_classifier\\keypoint_classifier.hdf5\n",
      "29/29 [==============================] - 0s 6ms/step - loss: 0.6628 - accuracy: 0.7279 - val_loss: 0.3645 - val_accuracy: 0.9206\n",
      "Epoch 42/1000\n",
      "18/29 [=================>............] - ETA: 0s - loss: 0.6461 - accuracy: 0.7335\n",
      "Epoch 42: saving model to model/keypoint_classifier\\keypoint_classifier.hdf5\n",
      "29/29 [==============================] - 0s 6ms/step - loss: 0.6563 - accuracy: 0.7326 - val_loss: 0.3529 - val_accuracy: 0.9282\n",
      "Epoch 43/1000\n",
      "19/29 [==================>...........] - ETA: 0s - loss: 0.6576 - accuracy: 0.7414\n",
      "Epoch 43: saving model to model/keypoint_classifier\\keypoint_classifier.hdf5\n",
      "29/29 [==============================] - 0s 6ms/step - loss: 0.6564 - accuracy: 0.7432 - val_loss: 0.3527 - val_accuracy: 0.9190\n",
      "Epoch 44/1000\n",
      "20/29 [===================>..........] - ETA: 0s - loss: 0.6584 - accuracy: 0.7430\n",
      "Epoch 44: saving model to model/keypoint_classifier\\keypoint_classifier.hdf5\n",
      "29/29 [==============================] - 0s 6ms/step - loss: 0.6592 - accuracy: 0.7379 - val_loss: 0.3454 - val_accuracy: 0.9248\n",
      "Epoch 45/1000\n",
      "20/29 [===================>..........] - ETA: 0s - loss: 0.6585 - accuracy: 0.7188\n",
      "Epoch 45: saving model to model/keypoint_classifier\\keypoint_classifier.hdf5\n",
      "29/29 [==============================] - 0s 6ms/step - loss: 0.6585 - accuracy: 0.7265 - val_loss: 0.3524 - val_accuracy: 0.9290\n",
      "Epoch 46/1000\n",
      "18/29 [=================>............] - ETA: 0s - loss: 0.6571 - accuracy: 0.7357\n",
      "Epoch 46: saving model to model/keypoint_classifier\\keypoint_classifier.hdf5\n",
      "29/29 [==============================] - 0s 6ms/step - loss: 0.6487 - accuracy: 0.7423 - val_loss: 0.3371 - val_accuracy: 0.9307\n",
      "Epoch 47/1000\n",
      "29/29 [==============================] - ETA: 0s - loss: 0.6329 - accuracy: 0.7460\n",
      "Epoch 47: saving model to model/keypoint_classifier\\keypoint_classifier.hdf5\n",
      "29/29 [==============================] - 0s 7ms/step - loss: 0.6329 - accuracy: 0.7460 - val_loss: 0.3325 - val_accuracy: 0.9340\n",
      "Epoch 48/1000\n",
      "20/29 [===================>..........] - ETA: 0s - loss: 0.6435 - accuracy: 0.7402\n",
      "Epoch 48: saving model to model/keypoint_classifier\\keypoint_classifier.hdf5\n",
      "29/29 [==============================] - 0s 6ms/step - loss: 0.6344 - accuracy: 0.7437 - val_loss: 0.3294 - val_accuracy: 0.9332\n",
      "Epoch 49/1000\n",
      "20/29 [===================>..........] - ETA: 0s - loss: 0.6501 - accuracy: 0.7348\n",
      "Epoch 49: saving model to model/keypoint_classifier\\keypoint_classifier.hdf5\n",
      "29/29 [==============================] - 0s 6ms/step - loss: 0.6493 - accuracy: 0.7351 - val_loss: 0.3280 - val_accuracy: 0.9357\n",
      "Epoch 50/1000\n",
      "19/29 [==================>...........] - ETA: 0s - loss: 0.6058 - accuracy: 0.7640\n",
      "Epoch 50: saving model to model/keypoint_classifier\\keypoint_classifier.hdf5\n",
      "29/29 [==============================] - 0s 6ms/step - loss: 0.6193 - accuracy: 0.7529 - val_loss: 0.3189 - val_accuracy: 0.9282\n",
      "Epoch 51/1000\n",
      "17/29 [================>.............] - ETA: 0s - loss: 0.6321 - accuracy: 0.7385\n",
      "Epoch 51: saving model to model/keypoint_classifier\\keypoint_classifier.hdf5\n",
      "29/29 [==============================] - 0s 6ms/step - loss: 0.6156 - accuracy: 0.7501 - val_loss: 0.3243 - val_accuracy: 0.9265\n",
      "Epoch 52/1000\n",
      "21/29 [====================>.........] - ETA: 0s - loss: 0.6339 - accuracy: 0.7444\n",
      "Epoch 52: saving model to model/keypoint_classifier\\keypoint_classifier.hdf5\n",
      "29/29 [==============================] - 0s 6ms/step - loss: 0.6228 - accuracy: 0.7479 - val_loss: 0.3138 - val_accuracy: 0.9373\n",
      "Epoch 53/1000\n",
      "21/29 [====================>.........] - ETA: 0s - loss: 0.6180 - accuracy: 0.7571\n",
      "Epoch 53: saving model to model/keypoint_classifier\\keypoint_classifier.hdf5\n",
      "29/29 [==============================] - 0s 5ms/step - loss: 0.6179 - accuracy: 0.7563 - val_loss: 0.3086 - val_accuracy: 0.9382\n",
      "Epoch 54/1000\n",
      "21/29 [====================>.........] - ETA: 0s - loss: 0.6129 - accuracy: 0.7511\n",
      "Epoch 54: saving model to model/keypoint_classifier\\keypoint_classifier.hdf5\n",
      "29/29 [==============================] - 0s 6ms/step - loss: 0.6131 - accuracy: 0.7510 - val_loss: 0.3052 - val_accuracy: 0.9390\n",
      "Epoch 55/1000\n",
      "22/29 [=====================>........] - ETA: 0s - loss: 0.6160 - accuracy: 0.7567\n",
      "Epoch 55: saving model to model/keypoint_classifier\\keypoint_classifier.hdf5\n",
      "29/29 [==============================] - 0s 5ms/step - loss: 0.6148 - accuracy: 0.7543 - val_loss: 0.3040 - val_accuracy: 0.9440\n",
      "Epoch 56/1000\n",
      "22/29 [=====================>........] - ETA: 0s - loss: 0.5950 - accuracy: 0.7649\n",
      "Epoch 56: saving model to model/keypoint_classifier\\keypoint_classifier.hdf5\n",
      "29/29 [==============================] - 0s 6ms/step - loss: 0.5964 - accuracy: 0.7646 - val_loss: 0.3012 - val_accuracy: 0.9432\n",
      "Epoch 57/1000\n",
      "18/29 [=================>............] - ETA: 0s - loss: 0.5872 - accuracy: 0.7643\n",
      "Epoch 57: saving model to model/keypoint_classifier\\keypoint_classifier.hdf5\n",
      "29/29 [==============================] - 0s 6ms/step - loss: 0.5884 - accuracy: 0.7627 - val_loss: 0.2953 - val_accuracy: 0.9457\n",
      "Epoch 58/1000\n",
      "19/29 [==================>...........] - ETA: 0s - loss: 0.5903 - accuracy: 0.7697\n",
      "Epoch 58: saving model to model/keypoint_classifier\\keypoint_classifier.hdf5\n",
      "29/29 [==============================] - 0s 6ms/step - loss: 0.6077 - accuracy: 0.7616 - val_loss: 0.2977 - val_accuracy: 0.9424\n",
      "Epoch 59/1000\n",
      "17/29 [================>.............] - ETA: 0s - loss: 0.6053 - accuracy: 0.7546\n",
      "Epoch 59: saving model to model/keypoint_classifier\\keypoint_classifier.hdf5\n",
      "29/29 [==============================] - 0s 6ms/step - loss: 0.6040 - accuracy: 0.7599 - val_loss: 0.2972 - val_accuracy: 0.9457\n",
      "Epoch 60/1000\n",
      "20/29 [===================>..........] - ETA: 0s - loss: 0.6027 - accuracy: 0.7641\n",
      "Epoch 60: saving model to model/keypoint_classifier\\keypoint_classifier.hdf5\n",
      "29/29 [==============================] - 0s 6ms/step - loss: 0.5983 - accuracy: 0.7643 - val_loss: 0.2939 - val_accuracy: 0.9432\n",
      "Epoch 61/1000\n",
      "19/29 [==================>...........] - ETA: 0s - loss: 0.5858 - accuracy: 0.7669\n",
      "Epoch 61: saving model to model/keypoint_classifier\\keypoint_classifier.hdf5\n",
      "29/29 [==============================] - 0s 7ms/step - loss: 0.5910 - accuracy: 0.7604 - val_loss: 0.2968 - val_accuracy: 0.9357\n",
      "Epoch 62/1000\n",
      "24/29 [=======================>......] - ETA: 0s - loss: 0.5858 - accuracy: 0.7699\n",
      "Epoch 62: saving model to model/keypoint_classifier\\keypoint_classifier.hdf5\n",
      "29/29 [==============================] - 0s 7ms/step - loss: 0.5854 - accuracy: 0.7669 - val_loss: 0.2892 - val_accuracy: 0.9465\n",
      "Epoch 63/1000\n",
      "20/29 [===================>..........] - ETA: 0s - loss: 0.5877 - accuracy: 0.7719\n",
      "Epoch 63: saving model to model/keypoint_classifier\\keypoint_classifier.hdf5\n",
      "29/29 [==============================] - 0s 6ms/step - loss: 0.5806 - accuracy: 0.7741 - val_loss: 0.2865 - val_accuracy: 0.9432\n",
      "Epoch 64/1000\n",
      "20/29 [===================>..........] - ETA: 0s - loss: 0.5879 - accuracy: 0.7660\n",
      "Epoch 64: saving model to model/keypoint_classifier\\keypoint_classifier.hdf5\n",
      "29/29 [==============================] - 0s 6ms/step - loss: 0.5795 - accuracy: 0.7744 - val_loss: 0.2849 - val_accuracy: 0.9407\n",
      "Epoch 65/1000\n",
      "21/29 [====================>.........] - ETA: 0s - loss: 0.5901 - accuracy: 0.7775\n",
      "Epoch 65: saving model to model/keypoint_classifier\\keypoint_classifier.hdf5\n",
      "29/29 [==============================] - 0s 5ms/step - loss: 0.5863 - accuracy: 0.7738 - val_loss: 0.2788 - val_accuracy: 0.9449\n",
      "Epoch 66/1000\n",
      "18/29 [=================>............] - ETA: 0s - loss: 0.5744 - accuracy: 0.7852\n",
      "Epoch 66: saving model to model/keypoint_classifier\\keypoint_classifier.hdf5\n",
      "29/29 [==============================] - 0s 6ms/step - loss: 0.5689 - accuracy: 0.7813 - val_loss: 0.2798 - val_accuracy: 0.9457\n",
      "Epoch 67/1000\n",
      "15/29 [==============>...............] - ETA: 0s - loss: 0.5554 - accuracy: 0.7818\n",
      "Epoch 67: saving model to model/keypoint_classifier\\keypoint_classifier.hdf5\n",
      "29/29 [==============================] - 0s 6ms/step - loss: 0.5800 - accuracy: 0.7705 - val_loss: 0.2780 - val_accuracy: 0.9474\n",
      "Epoch 68/1000\n",
      "22/29 [=====================>........] - ETA: 0s - loss: 0.5865 - accuracy: 0.7749\n",
      "Epoch 68: saving model to model/keypoint_classifier\\keypoint_classifier.hdf5\n",
      "29/29 [==============================] - 0s 5ms/step - loss: 0.5764 - accuracy: 0.7752 - val_loss: 0.2763 - val_accuracy: 0.9507\n",
      "Epoch 69/1000\n",
      "21/29 [====================>.........] - ETA: 0s - loss: 0.5663 - accuracy: 0.7827\n",
      "Epoch 69: saving model to model/keypoint_classifier\\keypoint_classifier.hdf5\n",
      "29/29 [==============================] - 0s 5ms/step - loss: 0.5780 - accuracy: 0.7760 - val_loss: 0.2762 - val_accuracy: 0.9449\n",
      "Epoch 70/1000\n",
      "21/29 [====================>.........] - ETA: 0s - loss: 0.5595 - accuracy: 0.7760\n",
      "Epoch 70: saving model to model/keypoint_classifier\\keypoint_classifier.hdf5\n",
      "29/29 [==============================] - 0s 6ms/step - loss: 0.5639 - accuracy: 0.7769 - val_loss: 0.2711 - val_accuracy: 0.9490\n",
      "Epoch 71/1000\n",
      "23/29 [======================>.......] - ETA: 0s - loss: 0.5855 - accuracy: 0.7687\n",
      "Epoch 71: saving model to model/keypoint_classifier\\keypoint_classifier.hdf5\n",
      "29/29 [==============================] - 0s 5ms/step - loss: 0.5822 - accuracy: 0.7691 - val_loss: 0.2720 - val_accuracy: 0.9432\n",
      "Epoch 72/1000\n",
      "24/29 [=======================>......] - ETA: 0s - loss: 0.5626 - accuracy: 0.7881\n",
      "Epoch 72: saving model to model/keypoint_classifier\\keypoint_classifier.hdf5\n",
      "29/29 [==============================] - 0s 5ms/step - loss: 0.5630 - accuracy: 0.7891 - val_loss: 0.2704 - val_accuracy: 0.9432\n",
      "Epoch 73/1000\n",
      "25/29 [========================>.....] - ETA: 0s - loss: 0.5586 - accuracy: 0.7922\n",
      "Epoch 73: saving model to model/keypoint_classifier\\keypoint_classifier.hdf5\n",
      "29/29 [==============================] - 0s 4ms/step - loss: 0.5630 - accuracy: 0.7883 - val_loss: 0.2634 - val_accuracy: 0.9465\n",
      "Epoch 74/1000\n",
      "24/29 [=======================>......] - ETA: 0s - loss: 0.5774 - accuracy: 0.7816\n",
      "Epoch 74: saving model to model/keypoint_classifier\\keypoint_classifier.hdf5\n",
      "29/29 [==============================] - 0s 5ms/step - loss: 0.5710 - accuracy: 0.7797 - val_loss: 0.2696 - val_accuracy: 0.9482\n",
      "Epoch 75/1000\n",
      "21/29 [====================>.........] - ETA: 0s - loss: 0.5547 - accuracy: 0.7857\n",
      "Epoch 75: saving model to model/keypoint_classifier\\keypoint_classifier.hdf5\n",
      "29/29 [==============================] - 0s 6ms/step - loss: 0.5573 - accuracy: 0.7858 - val_loss: 0.2628 - val_accuracy: 0.9490\n",
      "Epoch 76/1000\n",
      "20/29 [===================>..........] - ETA: 0s - loss: 0.5545 - accuracy: 0.7887\n",
      "Epoch 76: saving model to model/keypoint_classifier\\keypoint_classifier.hdf5\n",
      "29/29 [==============================] - 0s 5ms/step - loss: 0.5569 - accuracy: 0.7852 - val_loss: 0.2596 - val_accuracy: 0.9532\n",
      "Epoch 77/1000\n",
      "21/29 [====================>.........] - ETA: 0s - loss: 0.5439 - accuracy: 0.7902\n",
      "Epoch 77: saving model to model/keypoint_classifier\\keypoint_classifier.hdf5\n",
      "29/29 [==============================] - 0s 5ms/step - loss: 0.5479 - accuracy: 0.7861 - val_loss: 0.2627 - val_accuracy: 0.9490\n",
      "Epoch 78/1000\n",
      "19/29 [==================>...........] - ETA: 0s - loss: 0.5726 - accuracy: 0.7796\n",
      "Epoch 78: saving model to model/keypoint_classifier\\keypoint_classifier.hdf5\n",
      "29/29 [==============================] - 0s 6ms/step - loss: 0.5675 - accuracy: 0.7808 - val_loss: 0.2571 - val_accuracy: 0.9482\n",
      "Epoch 79/1000\n",
      "23/29 [======================>.......] - ETA: 0s - loss: 0.5777 - accuracy: 0.7775\n",
      "Epoch 79: saving model to model/keypoint_classifier\\keypoint_classifier.hdf5\n",
      "29/29 [==============================] - 0s 5ms/step - loss: 0.5699 - accuracy: 0.7808 - val_loss: 0.2570 - val_accuracy: 0.9474\n",
      "Epoch 80/1000\n",
      "20/29 [===================>..........] - ETA: 0s - loss: 0.5481 - accuracy: 0.7840\n",
      "Epoch 80: saving model to model/keypoint_classifier\\keypoint_classifier.hdf5\n",
      "29/29 [==============================] - 0s 5ms/step - loss: 0.5423 - accuracy: 0.7858 - val_loss: 0.2518 - val_accuracy: 0.9474\n",
      "Epoch 81/1000\n",
      "26/29 [=========================>....] - ETA: 0s - loss: 0.5461 - accuracy: 0.7951\n",
      "Epoch 81: saving model to model/keypoint_classifier\\keypoint_classifier.hdf5\n",
      "29/29 [==============================] - 0s 5ms/step - loss: 0.5404 - accuracy: 0.7989 - val_loss: 0.2515 - val_accuracy: 0.9432\n",
      "Epoch 82/1000\n",
      "22/29 [=====================>........] - ETA: 0s - loss: 0.5646 - accuracy: 0.7898\n",
      "Epoch 82: saving model to model/keypoint_classifier\\keypoint_classifier.hdf5\n",
      "29/29 [==============================] - 0s 5ms/step - loss: 0.5542 - accuracy: 0.7928 - val_loss: 0.2488 - val_accuracy: 0.9524\n",
      "Epoch 83/1000\n",
      "24/29 [=======================>......] - ETA: 0s - loss: 0.5305 - accuracy: 0.7887\n",
      "Epoch 83: saving model to model/keypoint_classifier\\keypoint_classifier.hdf5\n",
      "29/29 [==============================] - 0s 5ms/step - loss: 0.5325 - accuracy: 0.7880 - val_loss: 0.2500 - val_accuracy: 0.9482\n",
      "Epoch 84/1000\n",
      "25/29 [========================>.....] - ETA: 0s - loss: 0.5364 - accuracy: 0.7887\n",
      "Epoch 84: saving model to model/keypoint_classifier\\keypoint_classifier.hdf5\n",
      "29/29 [==============================] - 0s 5ms/step - loss: 0.5319 - accuracy: 0.7900 - val_loss: 0.2465 - val_accuracy: 0.9507\n",
      "Epoch 85/1000\n",
      "25/29 [========================>.....] - ETA: 0s - loss: 0.5477 - accuracy: 0.7841\n",
      "Epoch 85: saving model to model/keypoint_classifier\\keypoint_classifier.hdf5\n",
      "29/29 [==============================] - 0s 6ms/step - loss: 0.5441 - accuracy: 0.7869 - val_loss: 0.2468 - val_accuracy: 0.9490\n",
      "Epoch 86/1000\n",
      "23/29 [======================>.......] - ETA: 0s - loss: 0.5437 - accuracy: 0.7897\n",
      "Epoch 86: saving model to model/keypoint_classifier\\keypoint_classifier.hdf5\n",
      "29/29 [==============================] - 0s 5ms/step - loss: 0.5476 - accuracy: 0.7877 - val_loss: 0.2455 - val_accuracy: 0.9490\n",
      "Epoch 87/1000\n",
      "23/29 [======================>.......] - ETA: 0s - loss: 0.5196 - accuracy: 0.8043\n",
      "Epoch 87: saving model to model/keypoint_classifier\\keypoint_classifier.hdf5\n",
      "29/29 [==============================] - 0s 5ms/step - loss: 0.5319 - accuracy: 0.8000 - val_loss: 0.2423 - val_accuracy: 0.9457\n",
      "Epoch 88/1000\n",
      "22/29 [=====================>........] - ETA: 0s - loss: 0.5503 - accuracy: 0.7891\n",
      "Epoch 88: saving model to model/keypoint_classifier\\keypoint_classifier.hdf5\n",
      "29/29 [==============================] - 0s 5ms/step - loss: 0.5464 - accuracy: 0.7905 - val_loss: 0.2442 - val_accuracy: 0.9499\n",
      "Epoch 89/1000\n",
      "23/29 [======================>.......] - ETA: 0s - loss: 0.5468 - accuracy: 0.7897\n",
      "Epoch 89: saving model to model/keypoint_classifier\\keypoint_classifier.hdf5\n",
      "29/29 [==============================] - 0s 5ms/step - loss: 0.5477 - accuracy: 0.7903 - val_loss: 0.2523 - val_accuracy: 0.9524\n",
      "Epoch 90/1000\n",
      "23/29 [======================>.......] - ETA: 0s - loss: 0.5210 - accuracy: 0.7914\n",
      "Epoch 90: saving model to model/keypoint_classifier\\keypoint_classifier.hdf5\n",
      "29/29 [==============================] - 0s 5ms/step - loss: 0.5264 - accuracy: 0.7925 - val_loss: 0.2434 - val_accuracy: 0.9490\n",
      "Epoch 91/1000\n",
      "24/29 [=======================>......] - ETA: 0s - loss: 0.5367 - accuracy: 0.7985\n",
      "Epoch 91: saving model to model/keypoint_classifier\\keypoint_classifier.hdf5\n",
      "29/29 [==============================] - 0s 5ms/step - loss: 0.5367 - accuracy: 0.7972 - val_loss: 0.2407 - val_accuracy: 0.9490\n",
      "Epoch 92/1000\n",
      "16/29 [===============>..............] - ETA: 0s - loss: 0.5183 - accuracy: 0.8018\n",
      "Epoch 92: saving model to model/keypoint_classifier\\keypoint_classifier.hdf5\n",
      "29/29 [==============================] - 0s 6ms/step - loss: 0.5261 - accuracy: 0.7997 - val_loss: 0.2355 - val_accuracy: 0.9490\n",
      "Epoch 93/1000\n",
      "25/29 [========================>.....] - ETA: 0s - loss: 0.5425 - accuracy: 0.7969\n",
      "Epoch 93: saving model to model/keypoint_classifier\\keypoint_classifier.hdf5\n",
      "29/29 [==============================] - 0s 5ms/step - loss: 0.5380 - accuracy: 0.7978 - val_loss: 0.2461 - val_accuracy: 0.9490\n",
      "Epoch 94/1000\n",
      "22/29 [=====================>........] - ETA: 0s - loss: 0.5172 - accuracy: 0.8089\n",
      "Epoch 94: saving model to model/keypoint_classifier\\keypoint_classifier.hdf5\n",
      "29/29 [==============================] - 0s 5ms/step - loss: 0.5197 - accuracy: 0.8089 - val_loss: 0.2377 - val_accuracy: 0.9499\n",
      "Epoch 95/1000\n",
      "25/29 [========================>.....] - ETA: 0s - loss: 0.5162 - accuracy: 0.8009\n",
      "Epoch 95: saving model to model/keypoint_classifier\\keypoint_classifier.hdf5\n",
      "29/29 [==============================] - 0s 5ms/step - loss: 0.5231 - accuracy: 0.7992 - val_loss: 0.2305 - val_accuracy: 0.9482\n",
      "Epoch 96/1000\n",
      "23/29 [======================>.......] - ETA: 0s - loss: 0.5180 - accuracy: 0.8013\n",
      "Epoch 96: saving model to model/keypoint_classifier\\keypoint_classifier.hdf5\n",
      "29/29 [==============================] - 0s 5ms/step - loss: 0.5228 - accuracy: 0.7975 - val_loss: 0.2359 - val_accuracy: 0.9482\n",
      "Epoch 97/1000\n",
      "26/29 [=========================>....] - ETA: 0s - loss: 0.5201 - accuracy: 0.8020\n",
      "Epoch 97: saving model to model/keypoint_classifier\\keypoint_classifier.hdf5\n",
      "29/29 [==============================] - 0s 5ms/step - loss: 0.5185 - accuracy: 0.8025 - val_loss: 0.2372 - val_accuracy: 0.9465\n",
      "Epoch 98/1000\n",
      "16/29 [===============>..............] - ETA: 0s - loss: 0.5336 - accuracy: 0.7954\n",
      "Epoch 98: saving model to model/keypoint_classifier\\keypoint_classifier.hdf5\n",
      "29/29 [==============================] - 0s 6ms/step - loss: 0.5323 - accuracy: 0.7975 - val_loss: 0.2422 - val_accuracy: 0.9524\n",
      "Epoch 99/1000\n",
      "22/29 [=====================>........] - ETA: 0s - loss: 0.5162 - accuracy: 0.8125\n",
      "Epoch 99: saving model to model/keypoint_classifier\\keypoint_classifier.hdf5\n",
      "29/29 [==============================] - 0s 5ms/step - loss: 0.5109 - accuracy: 0.8109 - val_loss: 0.2319 - val_accuracy: 0.9532\n",
      "Epoch 100/1000\n",
      "25/29 [========================>.....] - ETA: 0s - loss: 0.5341 - accuracy: 0.7941\n",
      "Epoch 100: saving model to model/keypoint_classifier\\keypoint_classifier.hdf5\n",
      "29/29 [==============================] - 0s 5ms/step - loss: 0.5282 - accuracy: 0.7969 - val_loss: 0.2390 - val_accuracy: 0.9515\n",
      "Epoch 101/1000\n",
      "24/29 [=======================>......] - ETA: 0s - loss: 0.5284 - accuracy: 0.8001\n",
      "Epoch 101: saving model to model/keypoint_classifier\\keypoint_classifier.hdf5\n",
      "29/29 [==============================] - 0s 5ms/step - loss: 0.5227 - accuracy: 0.8036 - val_loss: 0.2312 - val_accuracy: 0.9541\n",
      "Epoch 102/1000\n",
      "23/29 [======================>.......] - ETA: 0s - loss: 0.5271 - accuracy: 0.7986\n",
      "Epoch 102: saving model to model/keypoint_classifier\\keypoint_classifier.hdf5\n",
      "29/29 [==============================] - 0s 5ms/step - loss: 0.5307 - accuracy: 0.7969 - val_loss: 0.2339 - val_accuracy: 0.9499\n",
      "Epoch 103/1000\n",
      "23/29 [======================>.......] - ETA: 0s - loss: 0.5128 - accuracy: 0.8077\n",
      "Epoch 103: saving model to model/keypoint_classifier\\keypoint_classifier.hdf5\n",
      "29/29 [==============================] - 0s 5ms/step - loss: 0.5207 - accuracy: 0.8039 - val_loss: 0.2351 - val_accuracy: 0.9507\n",
      "Epoch 104/1000\n",
      "18/29 [=================>............] - ETA: 0s - loss: 0.4933 - accuracy: 0.8160\n",
      "Epoch 104: saving model to model/keypoint_classifier\\keypoint_classifier.hdf5\n",
      "29/29 [==============================] - 0s 6ms/step - loss: 0.5004 - accuracy: 0.8081 - val_loss: 0.2278 - val_accuracy: 0.9465\n",
      "Epoch 105/1000\n",
      "21/29 [====================>.........] - ETA: 0s - loss: 0.5248 - accuracy: 0.7935\n",
      "Epoch 105: saving model to model/keypoint_classifier\\keypoint_classifier.hdf5\n",
      "29/29 [==============================] - 0s 5ms/step - loss: 0.5317 - accuracy: 0.7933 - val_loss: 0.2332 - val_accuracy: 0.9515\n",
      "Epoch 106/1000\n",
      "22/29 [=====================>........] - ETA: 0s - loss: 0.5066 - accuracy: 0.8072\n",
      "Epoch 106: saving model to model/keypoint_classifier\\keypoint_classifier.hdf5\n",
      "29/29 [==============================] - 0s 5ms/step - loss: 0.5116 - accuracy: 0.8019 - val_loss: 0.2263 - val_accuracy: 0.9524\n",
      "Epoch 107/1000\n",
      "23/29 [======================>.......] - ETA: 0s - loss: 0.5173 - accuracy: 0.8064\n",
      "Epoch 107: saving model to model/keypoint_classifier\\keypoint_classifier.hdf5\n",
      "29/29 [==============================] - 0s 5ms/step - loss: 0.5211 - accuracy: 0.8039 - val_loss: 0.2230 - val_accuracy: 0.9524\n",
      "Epoch 108/1000\n",
      "24/29 [=======================>......] - ETA: 0s - loss: 0.4788 - accuracy: 0.8138\n",
      "Epoch 108: saving model to model/keypoint_classifier\\keypoint_classifier.hdf5\n",
      "29/29 [==============================] - 0s 5ms/step - loss: 0.4784 - accuracy: 0.8145 - val_loss: 0.2217 - val_accuracy: 0.9507\n",
      "Epoch 109/1000\n",
      "23/29 [======================>.......] - ETA: 0s - loss: 0.5154 - accuracy: 0.8084\n",
      "Epoch 109: saving model to model/keypoint_classifier\\keypoint_classifier.hdf5\n",
      "29/29 [==============================] - 0s 5ms/step - loss: 0.5184 - accuracy: 0.8061 - val_loss: 0.2270 - val_accuracy: 0.9499\n",
      "Epoch 110/1000\n",
      "29/29 [==============================] - ETA: 0s - loss: 0.5079 - accuracy: 0.8097\n",
      "Epoch 110: saving model to model/keypoint_classifier\\keypoint_classifier.hdf5\n",
      "29/29 [==============================] - 0s 6ms/step - loss: 0.5079 - accuracy: 0.8097 - val_loss: 0.2342 - val_accuracy: 0.9490\n",
      "Epoch 111/1000\n",
      "25/29 [========================>.....] - ETA: 0s - loss: 0.5128 - accuracy: 0.8047\n",
      "Epoch 111: saving model to model/keypoint_classifier\\keypoint_classifier.hdf5\n",
      "29/29 [==============================] - 0s 5ms/step - loss: 0.5112 - accuracy: 0.8047 - val_loss: 0.2328 - val_accuracy: 0.9457\n",
      "Epoch 112/1000\n",
      "23/29 [======================>.......] - ETA: 0s - loss: 0.4979 - accuracy: 0.8084\n",
      "Epoch 112: saving model to model/keypoint_classifier\\keypoint_classifier.hdf5\n",
      "29/29 [==============================] - 0s 5ms/step - loss: 0.4996 - accuracy: 0.8109 - val_loss: 0.2197 - val_accuracy: 0.9490\n",
      "Epoch 113/1000\n",
      "20/29 [===================>..........] - ETA: 0s - loss: 0.4977 - accuracy: 0.8066\n",
      "Epoch 113: saving model to model/keypoint_classifier\\keypoint_classifier.hdf5\n",
      "29/29 [==============================] - 0s 5ms/step - loss: 0.5036 - accuracy: 0.8089 - val_loss: 0.2164 - val_accuracy: 0.9549\n",
      "Epoch 114/1000\n",
      "24/29 [=======================>......] - ETA: 0s - loss: 0.5207 - accuracy: 0.8031\n",
      "Epoch 114: saving model to model/keypoint_classifier\\keypoint_classifier.hdf5\n",
      "29/29 [==============================] - 0s 5ms/step - loss: 0.5167 - accuracy: 0.8056 - val_loss: 0.2139 - val_accuracy: 0.9582\n",
      "Epoch 115/1000\n",
      "25/29 [========================>.....] - ETA: 0s - loss: 0.5072 - accuracy: 0.8028\n",
      "Epoch 115: saving model to model/keypoint_classifier\\keypoint_classifier.hdf5\n",
      "29/29 [==============================] - 0s 6ms/step - loss: 0.5135 - accuracy: 0.8008 - val_loss: 0.2262 - val_accuracy: 0.9532\n",
      "Epoch 116/1000\n",
      "24/29 [=======================>......] - ETA: 0s - loss: 0.4940 - accuracy: 0.8112\n",
      "Epoch 116: saving model to model/keypoint_classifier\\keypoint_classifier.hdf5\n",
      "29/29 [==============================] - 0s 5ms/step - loss: 0.4938 - accuracy: 0.8109 - val_loss: 0.2222 - val_accuracy: 0.9490\n",
      "Epoch 117/1000\n",
      "20/29 [===================>..........] - ETA: 0s - loss: 0.4894 - accuracy: 0.8098\n",
      "Epoch 117: saving model to model/keypoint_classifier\\keypoint_classifier.hdf5\n",
      "29/29 [==============================] - 0s 5ms/step - loss: 0.5040 - accuracy: 0.8072 - val_loss: 0.2269 - val_accuracy: 0.9541\n",
      "Epoch 118/1000\n",
      "24/29 [=======================>......] - ETA: 0s - loss: 0.4947 - accuracy: 0.8158\n",
      "Epoch 118: saving model to model/keypoint_classifier\\keypoint_classifier.hdf5\n",
      "29/29 [==============================] - 0s 5ms/step - loss: 0.4885 - accuracy: 0.8167 - val_loss: 0.2114 - val_accuracy: 0.9549\n",
      "Epoch 119/1000\n",
      "25/29 [========================>.....] - ETA: 0s - loss: 0.4917 - accuracy: 0.8197\n",
      "Epoch 119: saving model to model/keypoint_classifier\\keypoint_classifier.hdf5\n",
      "29/29 [==============================] - 0s 5ms/step - loss: 0.4932 - accuracy: 0.8206 - val_loss: 0.2054 - val_accuracy: 0.9574\n",
      "Epoch 120/1000\n",
      "20/29 [===================>..........] - ETA: 0s - loss: 0.5008 - accuracy: 0.8156\n",
      "Epoch 120: saving model to model/keypoint_classifier\\keypoint_classifier.hdf5\n",
      "29/29 [==============================] - 0s 6ms/step - loss: 0.5066 - accuracy: 0.8120 - val_loss: 0.2171 - val_accuracy: 0.9524\n",
      "Epoch 121/1000\n",
      "23/29 [======================>.......] - ETA: 0s - loss: 0.4840 - accuracy: 0.8190\n",
      "Epoch 121: saving model to model/keypoint_classifier\\keypoint_classifier.hdf5\n",
      "29/29 [==============================] - 0s 5ms/step - loss: 0.4956 - accuracy: 0.8153 - val_loss: 0.2097 - val_accuracy: 0.9541\n",
      "Epoch 122/1000\n",
      "21/29 [====================>.........] - ETA: 0s - loss: 0.4941 - accuracy: 0.8155\n",
      "Epoch 122: saving model to model/keypoint_classifier\\keypoint_classifier.hdf5\n",
      "29/29 [==============================] - 0s 5ms/step - loss: 0.5095 - accuracy: 0.8081 - val_loss: 0.2193 - val_accuracy: 0.9515\n",
      "Epoch 123/1000\n",
      "23/29 [======================>.......] - ETA: 0s - loss: 0.4825 - accuracy: 0.8142\n",
      "Epoch 123: saving model to model/keypoint_classifier\\keypoint_classifier.hdf5\n",
      "29/29 [==============================] - 0s 5ms/step - loss: 0.4828 - accuracy: 0.8170 - val_loss: 0.2184 - val_accuracy: 0.9507\n",
      "Epoch 124/1000\n",
      "25/29 [========================>.....] - ETA: 0s - loss: 0.4911 - accuracy: 0.8150\n",
      "Epoch 124: saving model to model/keypoint_classifier\\keypoint_classifier.hdf5\n",
      "29/29 [==============================] - 0s 5ms/step - loss: 0.4945 - accuracy: 0.8136 - val_loss: 0.2204 - val_accuracy: 0.9557\n",
      "Epoch 125/1000\n",
      "24/29 [=======================>......] - ETA: 0s - loss: 0.4854 - accuracy: 0.8141\n",
      "Epoch 125: saving model to model/keypoint_classifier\\keypoint_classifier.hdf5\n",
      "29/29 [==============================] - 0s 6ms/step - loss: 0.4934 - accuracy: 0.8125 - val_loss: 0.2237 - val_accuracy: 0.9432\n",
      "Epoch 126/1000\n",
      "22/29 [=====================>........] - ETA: 0s - loss: 0.4986 - accuracy: 0.8093\n",
      "Epoch 126: saving model to model/keypoint_classifier\\keypoint_classifier.hdf5\n",
      "29/29 [==============================] - 0s 5ms/step - loss: 0.5002 - accuracy: 0.8078 - val_loss: 0.2148 - val_accuracy: 0.9440\n",
      "Epoch 127/1000\n",
      "23/29 [======================>.......] - ETA: 0s - loss: 0.4637 - accuracy: 0.8274\n",
      "Epoch 127: saving model to model/keypoint_classifier\\keypoint_classifier.hdf5\n",
      "29/29 [==============================] - 0s 5ms/step - loss: 0.4701 - accuracy: 0.8234 - val_loss: 0.2145 - val_accuracy: 0.9490\n",
      "Epoch 128/1000\n",
      "23/29 [======================>.......] - ETA: 0s - loss: 0.4911 - accuracy: 0.8190\n",
      "Epoch 128: saving model to model/keypoint_classifier\\keypoint_classifier.hdf5\n",
      "29/29 [==============================] - 0s 5ms/step - loss: 0.4925 - accuracy: 0.8164 - val_loss: 0.2133 - val_accuracy: 0.9457\n",
      "Epoch 129/1000\n",
      "24/29 [=======================>......] - ETA: 0s - loss: 0.4717 - accuracy: 0.8285\n",
      "Epoch 129: saving model to model/keypoint_classifier\\keypoint_classifier.hdf5\n",
      "29/29 [==============================] - 0s 5ms/step - loss: 0.4800 - accuracy: 0.8240 - val_loss: 0.2109 - val_accuracy: 0.9465\n",
      "Epoch 130/1000\n",
      "16/29 [===============>..............] - ETA: 0s - loss: 0.4736 - accuracy: 0.8228\n",
      "Epoch 130: saving model to model/keypoint_classifier\\keypoint_classifier.hdf5\n",
      "29/29 [==============================] - 0s 6ms/step - loss: 0.4782 - accuracy: 0.8201 - val_loss: 0.2061 - val_accuracy: 0.9524\n",
      "Epoch 131/1000\n",
      "24/29 [=======================>......] - ETA: 0s - loss: 0.5121 - accuracy: 0.8086\n",
      "Epoch 131: saving model to model/keypoint_classifier\\keypoint_classifier.hdf5\n",
      "29/29 [==============================] - 0s 5ms/step - loss: 0.5038 - accuracy: 0.8114 - val_loss: 0.2191 - val_accuracy: 0.9566\n",
      "Epoch 132/1000\n",
      "24/29 [=======================>......] - ETA: 0s - loss: 0.4942 - accuracy: 0.8132\n",
      "Epoch 132: saving model to model/keypoint_classifier\\keypoint_classifier.hdf5\n",
      "29/29 [==============================] - 0s 5ms/step - loss: 0.4879 - accuracy: 0.8153 - val_loss: 0.2163 - val_accuracy: 0.9499\n",
      "Epoch 133/1000\n",
      "26/29 [=========================>....] - ETA: 0s - loss: 0.5061 - accuracy: 0.8071\n",
      "Epoch 133: saving model to model/keypoint_classifier\\keypoint_classifier.hdf5\n",
      "29/29 [==============================] - 0s 5ms/step - loss: 0.5031 - accuracy: 0.8084 - val_loss: 0.2173 - val_accuracy: 0.9549\n",
      "Epoch 134/1000\n",
      "25/29 [========================>.....] - ETA: 0s - loss: 0.4880 - accuracy: 0.8200\n",
      "Epoch 134: saving model to model/keypoint_classifier\\keypoint_classifier.hdf5\n",
      "29/29 [==============================] - 0s 6ms/step - loss: 0.4917 - accuracy: 0.8175 - val_loss: 0.2170 - val_accuracy: 0.9474\n",
      "Epoch 135/1000\n",
      "20/29 [===================>..........] - ETA: 0s - loss: 0.4788 - accuracy: 0.8277\n",
      "Epoch 135: saving model to model/keypoint_classifier\\keypoint_classifier.hdf5\n",
      "29/29 [==============================] - 0s 5ms/step - loss: 0.4808 - accuracy: 0.8284 - val_loss: 0.2244 - val_accuracy: 0.9457\n",
      "Epoch 136/1000\n",
      "24/29 [=======================>......] - ETA: 0s - loss: 0.4933 - accuracy: 0.8132\n",
      "Epoch 136: saving model to model/keypoint_classifier\\keypoint_classifier.hdf5\n",
      "29/29 [==============================] - 0s 5ms/step - loss: 0.4884 - accuracy: 0.8150 - val_loss: 0.2175 - val_accuracy: 0.9515\n",
      "Epoch 137/1000\n",
      "24/29 [=======================>......] - ETA: 0s - loss: 0.4950 - accuracy: 0.8089\n",
      "Epoch 137: saving model to model/keypoint_classifier\\keypoint_classifier.hdf5\n",
      "29/29 [==============================] - 0s 4ms/step - loss: 0.4982 - accuracy: 0.8070 - val_loss: 0.2133 - val_accuracy: 0.9557\n",
      "Epoch 138/1000\n",
      "25/29 [========================>.....] - ETA: 0s - loss: 0.5015 - accuracy: 0.8134\n",
      "Epoch 138: saving model to model/keypoint_classifier\\keypoint_classifier.hdf5\n",
      "29/29 [==============================] - 0s 5ms/step - loss: 0.4981 - accuracy: 0.8164 - val_loss: 0.2165 - val_accuracy: 0.9524\n",
      "Epoch 139/1000\n",
      "20/29 [===================>..........] - ETA: 0s - loss: 0.4742 - accuracy: 0.8234\n",
      "Epoch 139: saving model to model/keypoint_classifier\\keypoint_classifier.hdf5\n",
      "29/29 [==============================] - 0s 6ms/step - loss: 0.4790 - accuracy: 0.8203 - val_loss: 0.2196 - val_accuracy: 0.9482\n",
      "Epoch 139: early stopping\n"
     ]
    },
    {
     "data": {
      "text/plain": [
       "<keras.callbacks.History at 0x19110bb6c90>"
      ]
     },
     "execution_count": 34,
     "metadata": {},
     "output_type": "execute_result"
    }
   ],
   "source": [
    "model.fit(\n",
    "    X_train,\n",
    "    y_train,\n",
    "    epochs=1000,\n",
    "    batch_size=128,\n",
    "    validation_data=(X_test, y_test),\n",
    "    callbacks=[cp_callback, es_callback]\n",
    ")"
   ]
  },
  {
   "cell_type": "code",
   "execution_count": 35,
   "metadata": {},
   "outputs": [
    {
     "name": "stdout",
     "output_type": "stream",
     "text": [
      "10/10 [==============================] - 0s 3ms/step - loss: 0.2196 - accuracy: 0.9482\n"
     ]
    }
   ],
   "source": [
    "# モデル評価\n",
    "val_loss, val_acc = model.evaluate(X_test, y_test, batch_size=128)"
   ]
  },
  {
   "cell_type": "code",
   "execution_count": 36,
   "metadata": {},
   "outputs": [],
   "source": [
    "# 保存したモデルのロード\n",
    "model = tf.keras.models.load_model(model_save_path)"
   ]
  },
  {
   "cell_type": "code",
   "execution_count": 37,
   "metadata": {},
   "outputs": [
    {
     "name": "stdout",
     "output_type": "stream",
     "text": [
      "1/1 [==============================] - 0s 62ms/step\n",
      "[9.7350830e-01 2.5935343e-02 5.3014833e-04 2.6303716e-05 1.2537173e-08]\n",
      "0\n"
     ]
    }
   ],
   "source": [
    "# 推論テスト\n",
    "predict_result = model.predict(np.array([X_test[0]]))\n",
    "print(np.squeeze(predict_result))\n",
    "print(np.argmax(np.squeeze(predict_result)))"
   ]
  },
  {
   "cell_type": "markdown",
   "metadata": {},
   "source": [
    "# 混同行列"
   ]
  },
  {
   "cell_type": "code",
   "execution_count": 38,
   "metadata": {},
   "outputs": [
    {
     "name": "stdout",
     "output_type": "stream",
     "text": [
      "38/38 [==============================] - 0s 2ms/step\n"
     ]
    },
    {
     "data": {
      "image/png": "[encoded data removed]",
      "text/plain": [
       "<Figure size 700x600 with 2 Axes>"
      ]
     },
     "metadata": {},
     "output_type": "display_data"
    },
    {
     "name": "stdout",
     "output_type": "stream",
     "text": [
      "Classification Report\n",
      "              precision    recall  f1-score   support\n",
      "\n",
      "           0       0.98      0.98      0.98       402\n",
      "           1       0.98      0.88      0.93       366\n",
      "           2       0.89      0.98      0.93       343\n",
      "           3       0.94      0.99      0.97        86\n",
      "\n",
      "    accuracy                           0.95      1197\n",
      "   macro avg       0.95      0.96      0.95      1197\n",
      "weighted avg       0.95      0.95      0.95      1197\n",
      "\n"
     ]
    }
   ],
   "source": [
    "import pandas as pd\n",
    "import seaborn as sns\n",
    "import matplotlib.pyplot as plt\n",
    "from sklearn.metrics import confusion_matrix, classification_report\n",
    "\n",
    "def print_confusion_matrix(y_true, y_pred, report=True):\n",
    "    labels = sorted(list(set(y_true)))\n",
    "    cmx_data = confusion_matrix(y_true, y_pred, labels=labels)\n",
    "    \n",
    "    df_cmx = pd.DataFrame(cmx_data, index=labels, columns=labels)\n",
    " \n",
    "    fig, ax = plt.subplots(figsize=(7, 6))\n",
    "    sns.heatmap(df_cmx, annot=True, fmt='g' ,square=False)\n",
    "    ax.set_ylim(len(set(y_true)), 0)\n",
    "    plt.show()\n",
    "    \n",
    "    if report:\n",
    "        print('Classification Report')\n",
    "        print(classification_report(y_test, y_pred))\n",
    "\n",
    "Y_pred = model.predict(X_test)\n",
    "y_pred = np.argmax(Y_pred, axis=1)\n",
    "\n",
    "print_confusion_matrix(y_test, y_pred)"
   ]
  },
  {
   "cell_type": "markdown",
   "metadata": {},
   "source": [
    "# Tensorflow-Lite用のモデルへ変換"
   ]
  },
  {
   "cell_type": "code",
   "execution_count": 39,
   "metadata": {},
   "outputs": [],
   "source": [
    "# 推論専用のモデルとして保存\n",
    "model.save(model_save_path, include_optimizer=False)"
   ]
  },
  {
   "cell_type": "code",
   "execution_count": 40,
   "metadata": {},
   "outputs": [
    {
     "name": "stderr",
     "output_type": "stream",
     "text": [
      "WARNING:absl:Found untraced functions such as _update_step_xla while saving (showing 1 of 1). These functions will not be directly callable after loading.\n"
     ]
    },
    {
     "name": "stdout",
     "output_type": "stream",
     "text": [
      "INFO:tensorflow:Assets written to: C:\\Users\\bhave\\AppData\\Local\\Temp\\tmpp6xyeqw0\\assets\n"
     ]
    },
    {
     "name": "stderr",
     "output_type": "stream",
     "text": [
      "INFO:tensorflow:Assets written to: C:\\Users\\bhave\\AppData\\Local\\Temp\\tmpp6xyeqw0\\assets\n"
     ]
    },
    {
     "data": {
      "text/plain": [
       "6616"
      ]
     },
     "execution_count": 40,
     "metadata": {},
     "output_type": "execute_result"
    }
   ],
   "source": [
    "# モデルを変換(量子化)\n",
    "tflite_save_path = 'model/keypoint_classifier/keypoint_classifier.tflite'\n",
    "\n",
    "converter = tf.lite.TFLiteConverter.from_keras_model(model)\n",
    "converter.optimizations = [tf.lite.Optimize.DEFAULT]\n",
    "tflite_quantized_model = converter.convert()\n",
    "\n",
    "open(tflite_save_path, 'wb').write(tflite_quantized_model)"
   ]
  },
  {
   "cell_type": "markdown",
   "metadata": {},
   "source": [
    "# 推論テスト"
   ]
  },
  {
   "cell_type": "code",
   "execution_count": 41,
   "metadata": {},
   "outputs": [],
   "source": [
    "interpreter = tf.lite.Interpreter(model_path=tflite_save_path)\n",
    "interpreter.allocate_tensors()"
   ]
  },
  {
   "cell_type": "code",
   "execution_count": 42,
   "metadata": {},
   "outputs": [],
   "source": [
    "# 入出力テンソルを取得\n",
    "input_details = interpreter.get_input_details()\n",
    "output_details = interpreter.get_output_details()"
   ]
  },
  {
   "cell_type": "code",
   "execution_count": 43,
   "metadata": {},
   "outputs": [],
   "source": [
    "interpreter.set_tensor(input_details[0]['index'], np.array([X_test[0]]))"
   ]
  },
  {
   "cell_type": "code",
   "execution_count": 44,
   "metadata": {
    "scrolled": true
   },
   "outputs": [
    {
     "name": "stdout",
     "output_type": "stream",
     "text": [
      "CPU times: total: 0 ns\n",
      "Wall time: 0 ns\n"
     ]
    }
   ],
   "source": [
    "%%time\n",
    "# 推論実施\n",
    "interpreter.invoke()\n",
    "tflite_results = interpreter.get_tensor(output_details[0]['index'])"
   ]
  },
  {
   "cell_type": "code",
   "execution_count": 45,
   "metadata": {},
   "outputs": [
    {
     "name": "stdout",
     "output_type": "stream",
     "text": [
      "[9.73508179e-01 2.59353444e-02 5.30148216e-04 2.63037109e-05\n",
      " 1.25371695e-08]\n",
      "0\n"
     ]
    }
   ],
   "source": [
    "print(np.squeeze(tflite_results))\n",
    "print(np.argmax(np.squeeze(tflite_results)))"
   ]
  },
  {
   "cell_type": "code",
   "execution_count": null,
   "metadata": {},
   "outputs": [],
   "source": []
  }
 ],
 "metadata": {
  "kernelspec": {
   "display_name": "Python 3 (ipykernel)",
   "language": "python",
   "name": "python3"
  },
  "language_info": {
   "codemirror_mode": {
    "name": "ipython",
    "version": 3
   },
   "file_extension": ".py",
   "mimetype": "text/x-python",
   "name": "python",
   "nbconvert_exporter": "python",
   "pygments_lexer": "ipython3",
   "version": "3.11.5"
  }
 },
 "nbformat": 4,
 "nbformat_minor": 4
}
